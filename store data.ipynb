{
 "cells": [
  {
   "cell_type": "code",
   "execution_count": null,
   "metadata": {},
   "outputs": [],
   "source": [
    "\n",
    "#intall mysql connector\n",
    "!pip install mysql-connector-python\n",
    "\n",
    "#import mysql connector\n",
    "import mysql.connector\n",
    "\n",
    "#connect with server\n",
    "mydb = mysql.connector.connect(\n",
    " host=\"localhost\",\n",
    " user=\"root\",\n",
    " password=\"\",\n",
    "\n",
    "\n",
    ")\n",
    "\n",
    "print(mydb)\n",
    "mycursor = mydb.cursor(buffered=True)\n",
    "#create table\n",
    "mycursor.execute(\"create table database_name.table_name(id int AUTO_INCREMENT PRIMARY KEY,route_name varchar(255),route_link text,busname varchar(255),bustype varchar(100),departing_time time,duration varchar(50),reaching_time time,star_rating float,price decimal(5,2),seats_available int)\")\n",
    "\n",
    "#import pandas for dataframe\n",
    "import pandas as pd\n",
    "\n",
    "\n",
    "# Load the CSV data into a pandas DataFrame\n",
    "csv_path=r\"file name\"\n",
    "df=pd.read_csv(csv_path)\n",
    "\n",
    "#drop null values \n",
    "df.dropna(inplace=True)\n",
    "\n",
    " # SQL query to insert data\n",
    "insert_data = \"\"\"\n",
    "        INSERT INTO database_name.table_name (\n",
    "            route_name, route_link, busname, bustype, \n",
    "            departing_time, duration, reaching_time, \n",
    "            star_rating, price, seats_available\n",
    "        ) VALUES (%s, %s, %s, %s, %s, %s, %s, %s, %s, %s)\n",
    "        \"\"\"\n",
    "\n",
    "# Inserting each bus data record into the table\n",
    "for index,row in df.iterrows():\n",
    "            mycursor.execute(insert_data, (\n",
    "                row['Route Name'], row['Route Link'], row['Bus Name'], \n",
    "                row['Bus Type'], row['Departing Time'], row['Duration'], \n",
    "                row['Reaching Time'], row['Star Rating'], row['Price'], \n",
    "                row['Seats Available']\n",
    "            ))\n",
    "mydb.commit()  #commit the changes in myql database\n",
    "\n",
    "#optional\n",
    "#view the data\n",
    "pj=pd.DataFrame(df)\n",
    "\n"
   ]
  }
 ],
 "metadata": {
  "kernelspec": {
   "display_name": "Python 3",
   "language": "python",
   "name": "python3"
  },
  "language_info": {
   "codemirror_mode": {
    "name": "ipython",
    "version": 3
   },
   "file_extension": ".py",
   "mimetype": "text/x-python",
   "name": "python",
   "nbconvert_exporter": "python",
   "pygments_lexer": "ipython3",
   "version": "3.12.5"
  }
 },
 "nbformat": 4,
 "nbformat_minor": 2
}
